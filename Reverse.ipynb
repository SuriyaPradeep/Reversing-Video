{
 "cells": [
  {
   "cell_type": "markdown",
   "id": "1697c7ad",
   "metadata": {},
   "source": [
    "### Import Librires"
   ]
  },
  {
   "cell_type": "code",
   "execution_count": 1,
   "id": "bf566c71",
   "metadata": {},
   "outputs": [],
   "source": [
    "import cv2"
   ]
  },
  {
   "cell_type": "markdown",
   "id": "633d1af5",
   "metadata": {},
   "source": [
    "### Setting Video Properties"
   ]
  },
  {
   "cell_type": "code",
   "execution_count": 20,
   "id": "b812f527",
   "metadata": {},
   "outputs": [
    {
     "name": "stdout",
     "output_type": "stream",
     "text": [
      "No. of frames are : 2040.0\n",
      "FPS is :30.0\n"
     ]
    }
   ],
   "source": [
    "#Video Capture Instance\n",
    "cap=cv2.VideoCapture('Hollow Purple.mp4')\n",
    "\n",
    "#Properties of Video\n",
    "\n",
    "#Total number of frames in video\n",
    "frames = cap.get(cv2.CAP_PROP_FRAME_COUNT)\n",
    "\n",
    "#Frames per second of video\n",
    "fps = cap.get(cv2.CAP_PROP_FPS)\n",
    "\n",
    "#height and width of video\n",
    "height = cap.get(cv2.CAP_PROP_FRAME_HEIGHT)\n",
    "width = cap.get(cv2.CAP_PROP_FRAME_WIDTH)\n",
    "\n",
    "#Initiating the Output writer for Video\n",
    "fourcc = cv2.VideoWriter_fourcc(*'MJPG')#Defining the codec\n",
    "out = cv2.VideoWriter('reversed.avi', fourcc,fps ,(int(width), int(height)))\n",
    "\n",
    "print(\"No. of frames are : {}\".format(frames))\n",
    "print(\"FPS is :{}\".format(fps))\n",
    "\n",
    "# We get the index of the last frame of the video file\n",
    "frame_index = frames-1"
   ]
  },
  {
   "cell_type": "markdown",
   "id": "b6d9814b",
   "metadata": {},
   "source": [
    "### Reversing Video"
   ]
  },
  {
   "cell_type": "code",
   "execution_count": 19,
   "id": "d1b56cf9",
   "metadata": {},
   "outputs": [
    {
     "name": "stdout",
     "output_type": "stream",
     "text": [
      "2000.0\n",
      "1900.0\n",
      "1800.0\n",
      "1700.0\n",
      "1600.0\n",
      "1500.0\n",
      "1400.0\n",
      "1300.0\n",
      "1200.0\n",
      "1100.0\n",
      "1000.0\n",
      "900.0\n",
      "800.0\n",
      "700.0\n",
      "600.0\n",
      "500.0\n",
      "400.0\n",
      "300.0\n",
      "200.0\n",
      "100.0\n",
      "0.0\n"
     ]
    }
   ],
   "source": [
    "#Checking if the video instance is ready\n",
    "if(cap.isOpened()):\n",
    "    #Reading till the end of the video\n",
    "    while(frame_index!=0):\n",
    "        # We set the current frame position to last frame\n",
    "        cap.set(cv2.CAP_PROP_POS_FRAMES, frame_index)\n",
    "        ret, frame = cap.read()\n",
    "\n",
    "        #Resize the frame\n",
    "        #frame = cv2.resize(frame,(int(width*0.5), int(height*0.5)))\n",
    "\n",
    "        #OPTIONAL : To show the reversing video\n",
    "        #cv2.imshow('winname', frame)\n",
    "\n",
    "        #Writing the reversed video \n",
    "        out.write(frame)\n",
    "        #Decrementing Frame index at each step\n",
    "        frame_index = frame_index-1\n",
    "    \n",
    "        #Printing the progress\n",
    "        if(frame_index%100==0):\n",
    "            print(frame_index)\n",
    "        # if(cv2.waitKey(2)==ord('q')):\n",
    "        # \tbreak\n",
    "\n",
    "out.release()\n",
    "cap.release()\n",
    "cv2.destroyAllWindows()"
   ]
  }
 ],
 "metadata": {
  "kernelspec": {
   "display_name": "Python 3 (ipykernel)",
   "language": "python",
   "name": "python3"
  },
  "language_info": {
   "codemirror_mode": {
    "name": "ipython",
    "version": 3
   },
   "file_extension": ".py",
   "mimetype": "text/x-python",
   "name": "python",
   "nbconvert_exporter": "python",
   "pygments_lexer": "ipython3",
   "version": "3.9.13"
  }
 },
 "nbformat": 4,
 "nbformat_minor": 5
}
